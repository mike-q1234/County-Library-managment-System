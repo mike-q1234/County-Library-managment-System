{
  "nbformat": 4,
  "nbformat_minor": 0,
  "metadata": {
    "colab": {
      "provenance": [],
      "authorship_tag": "ABX9TyMJQsQosAiTlz7afYFWPmkM",
      "include_colab_link": true
    },
    "kernelspec": {
      "name": "python3",
      "display_name": "Python 3"
    },
    "language_info": {
      "name": "python"
    }
  },
  "cells": [
    {
      "cell_type": "markdown",
      "metadata": {
        "id": "view-in-github",
        "colab_type": "text"
      },
      "source": [
        "<a href=\"https://colab.research.google.com/github/mike-q1234/County-Library-managment-System/blob/main/voters%20prediction%20model3.ipynb\" target=\"_parent\"><img src=\"https://colab.research.google.com/assets/colab-badge.svg\" alt=\"Open In Colab\"/></a>"
      ]
    },
    {
      "cell_type": "code",
      "execution_count": null,
      "metadata": {
        "id": "2jn1E7440JnY"
      },
      "outputs": [],
      "source": [
        "\n",
        "import pandas as pd\n",
        "from sklearn.model_selection import train_test_split\n",
        "from sklearn.feature_extraction.text import TfidfVectorizer\n",
        "from sklearn.ensemble import RandomForestClassifier\n",
        "from sklearn.metrics import accuracy_score, classification_report\n",
        "\n",
        "\n",
        "data = pd.read_csv('social_media_data.csv')\n",
        "\n",
        "\n",
        "data = data[['text', 'candidate_support', 'follower_count']]\n",
        "data.dropna(inplace=True)\n",
        "\n",
        "tfidf_vectorizer = TfidfVectorizer(max_features=1000)  # Adjust max_features as needed\n",
        "X_text_features = tfidf_vectorizer.fit_transform(data['text'])\n",
        "\n",
        "\n",
        "X_numeric_features = data[['follower_count']]\n",
        "X_combined_features = pd.concat([pd.DataFrame(X_text_features.toarray()), X_numeric_features], axis=1)\n",
        "\n",
        "\n",
        "y = data['candidate_support']\n",
        "\n",
        "rf_classifier = RandomForestClassifier(n_estimators=100)\n",
        "\n",
        "X_train, X_test, y_train, y_test = train_test_split(X_combined_features, y, test_size=0.2, random_state=42)\n",
        "\n",
        "rf_classifier.fit(X_train, y_train)\n",
        "\n",
        "y_pred = rf_classifier.predict(X_test)\n",
        "\n",
        "accuracy = accuracy_score(y_test, y_pred)\n",
        "print(\"Accuracy:\", accuracy)\n",
        "\n",
        "\n",
        "print(\"Classification Report:\")\n",
        "print(classification_report(y_test, y_pred))\n"
      ]
    }
  ]
}